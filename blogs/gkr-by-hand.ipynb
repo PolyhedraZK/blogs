{
 "cells": [
  {
   "cell_type": "markdown",
   "id": "9f95edb5de1c015e",
   "metadata": {},
   "source": [
    "# GKR By Hand\n",
    "\n",
    "## Introduction\n",
    "\n",
    "The Goldwasser-Kalai-Rothblum (GKR) interactive proof protocol, developed by Shafi Goldwasser, Yael Tauman Kalai, and Guy N. Rothblum, provides a method for efficiently verifying the correctness of computations in a delegated computing environment. This protocol is especially useful for verifying computations on large datasets where direct verification is computationally expensive.\n",
    "\n",
    "## Background Setup\n",
    "\n",
    "**MLE**: The notation $\\tilde{f}$, where $f:\\{0,1\\}^l\\mapsto\\mathbb{F}$, indicates a multilinear extension (MLE) to this mapping. An MLE is a mapping $\\tilde{f}: \\mathbb{F}^l\\mapsto\\mathbb{F}$, where $\\forall x\\in\\{0,1\\}^l$ we have $\\tilde{f}(x) = f(x)$. Intuitively, an MLE looks like:\n",
    "\n",
    "$$\\tilde{f}(x)=\\begin{cases}\n",
    "f(x) & x\\in\\{0,1\\}^l \\\\\n",
    "\\text{something else} & x\\not\\in\\{0,1\\}^l\n",
    "\\end{cases}$$\n",
    "\n",
    "However, conditional clauses are not supported, so this mapping should be written in a polynomial format by interpolation:\n",
    "$$\\tilde{f}(x)=\\sum\\limits_{b\\in\\{0,1\\}^l}\\prod\\limits_{i=0}^l [(1-x_i)(1-b_i)+x_ib_i])f(b)$$\n",
    "where $b_i$ and $x_i$ are the i-th bit of $x$ and $b$.\n",
    "\n",
    "From inner to outer, if we draw a binary truth table for the term $(1-x_i)(1-b_i)+x_ib_i$, we will find this term checks if $x_i=b_i$ (see below), and the $\\prod$ operator serves as a reduce $\\land$ operator, which checks if all the bits of $b_i=x_i$.\n",
    "\n",
    "| $x_i$ | $b_i$ | $(!x_i\\land !b_i)\\lor (x_i\\land b_i) $ |\n",
    "|-------|-------|---------|\n",
    "|   0   |   0   |    1    |\n",
    "|   0   |   1   |    0    |\n",
    "|   1   |   0   |    0    |\n",
    "|   1   |   1   |    1    |\n",
    "\n",
    "If any bit gets $b_i\\not=x_i$, the $\\prod$ term gets 0. It sums up all the $b\\in\\{0,1\\}^l$, there will only be one $b$ get coefficient 1 for the $\\prod$ term.\n",
    "\n",
    "**Circuit & Wiring Predicate**: Circuit is a layered graph of arithmetic computation to be proved. For each layer in the graph we have:\n",
    "\n",
    "$$V_{i}(z)=\\sum\\limits_{x}\\sum\\limits_{y}[\\text{mult}_{i+1}(z,x,y)V_{i+1}(x)V_{i+1}(y)+\\text{add}_{i+1}(z,x,y)(V_{i+1}(x)+V_{i+1}(y))]$$\n",
    "\n",
    "where $\\text{add}$ and $\\text{mul}$ are wiring predicates, and $x$ and $y$ are gate ids in layer $i+1$, which indicates if gate $z$ in the current layer uses gate $x$ and $y$ in prior layer to compute the result.\n",
    "\n",
    "Next, the interactive protocol will convince the verifier that the output layer is the result of the given input, first bit by bit of the gate indices then layer by layer. During this process, both circuit node $V$, and wiring predicates $\\text{add}$ and $\\text{mul}$ are MLE-able.\n",
    "\n",
    "## Protocol Framework\n",
    "\n",
    "The GKR protocol is based on the idea of verifying computation by checking the correctness of each step through a series of interactive proofs between a prover (who performs the computation) and a verifier (who checks the computation). The protocol uses a layered approach, where each layer of the computation is verified independently.\n",
    "\n",
    "### Key Components\n",
    "\n",
    "- **Circuit Representation**: The computation is represented as an arithmetic circuit.\n",
    "- **Sumcheck Protocol**: A key component used in the GKR protocol to verify sums of polynomials efficiently.\n",
    "- **Verifier and Prover**: Roles are defined where the prover demonstrates the correctness of their computation, and the verifier confirms this correctness through challenges and checks.\n",
    "\n",
    "## Detailed Steps\n",
    "\n",
    "1. **Circuit Setup**: The computation to be verified is structured as an arithmetic circuit with a hierarchical layout.\n",
    "2. **Initialization**: The prover and verifier establish the initial parameters and inputs for the computation.\n",
    "3. **Layer by Layer Verification**:\n",
    "   - The verifier sends a random challenge related to the output of a specific layer.\n",
    "   - The prover responds with a proof showing the correctness of the output for that layer.\n",
    "   - The verifier checks the proof and proceeds to the next layer.\n",
    "4. **Final Check**: Upon reaching the input layer, a final verification is performed to ensure all layers are computed correctly.\n",
    "\n",
    "## Example\n",
    "\n",
    "![Circuit Diagram](ac.png)\n",
    "\n",
    "### Legend\n",
    "- Circles represent Add (Addition, light yellow) or Mult (Multiplication, purple) gates. All these operations are done on a $\\mathbb{P}_5$ field (modulo by 5).\n",
    "- Each node in the circuit is labeled as $V_i(x) = value$, where `i` denotes the layer, `x` denotes the input bits, and `value` denotes the computed value.\n",
    "\n",
    "### Step 1: Protocol Initialization\n",
    "The protocol starts from the root node of the output layer. The verifier (V) wants to verify the correctness of the computation performed by the prover (P).\n",
    "\n",
    "#### Input and Output Layers\n",
    "- **Input Layer:** Nodes at the bottom (e.g., $V_3(0,0) = 1$, $V_3(1,1) = 4$, etc.)\n",
    "- **Output Layer:** Nodes at the top (e.g., $V_0(0) = 4$, $V_0(1) = 2$, etc.)\n",
    "\n",
    "### Step 2: Sumcheck Protocol\n",
    "\n",
    "The following computation follows the [*Protocol 2 of Libra*](https://eprint.iacr.org/2019/317.pdf), contains no optimization of bookkeeping table, which results the time complexity to be $O(n \\cdot log(n))$. And for the simplicity of computation, the following computation does not involve modulo operation, meaning it is not done on the field.\n",
    "\n",
    "#### Round 1: Initialization\n",
    "\n",
    "For the output level, according to the definition of MLE above, we have: \n",
    "\n",
    "$$\n",
    "\\begin{aligned}\n",
    "\\tilde{V}_0(x_1) =  & (1-x_1) \\times 2 + (x_1) \\times 2\n",
    "\\end{aligned}\n",
    "$$\n",
    "\n",
    "The $\\mathcal{V}$ will choose **one** random number (challenge) $g^{(0)} = 2$, because there are only 2 outputs, which requires only one bit for indexing. Both $\\mathcal{P}$ and $\\mathcal{V}$ will compute $\\tilde{V}_0(g^{(0)})$, as \n",
    "\n",
    "$$\n",
    "\\begin{aligned}\n",
    "\\tilde{V}_0(2) =  (1-2) \\times 2 + (2) \\times 2 = 3 + 4 = 2\n",
    "\\end{aligned}\n",
    "$$"
   ]
  },
  {
   "cell_type": "code",
   "execution_count": 6,
   "id": "939673c2b33b1239",
   "metadata": {
    "ExecuteTime": {
     "end_time": "2024-07-31T03:43:32.362893Z",
     "start_time": "2024-07-31T03:43:32.358549Z"
    }
   },
   "outputs": [
    {
     "name": "stdout",
     "output_type": "stream",
     "text": [
      "The proof target is g_0 = 2, V_0(g_0) = 2\n"
     ]
    }
   ],
   "source": [
    "import numpy as np\n",
    "import random\n",
    "\n",
    "# All of our computation will be done in F_5\n",
    "# In real case, 5 will be too small to be practical\n",
    "modulus = 5\n",
    "\n",
    "# We fix the seed to make program execution to be consistent with text content\n",
    "random.seed(77777777)\n",
    "\n",
    "# This function generate MLE for given output values\n",
    "def generate_multilinear_extension(values):\n",
    "    n = int(np.log2(len(values)))\n",
    "    indices = [(i >> k) & 1 for i in range(len(values)) for k in range(n)]\n",
    "    table = {tuple(indices[i*n:(i+1)*n]): values[i] for i in range(len(values))}\n",
    "    def multilinear_extension(input_vars):\n",
    "        input_vars = tuple(input_vars)\n",
    "        if input_vars in table:\n",
    "            return table[input_vars]\n",
    "        # Calculate multilinear extension for input_vars\n",
    "        result = 0\n",
    "        for key, value in table.items():\n",
    "            prod = value\n",
    "            for i in range(n):\n",
    "                if key[i] == 1:\n",
    "                    prod *= input_vars[i]\n",
    "                else:\n",
    "                    prod *= (1 - input_vars[i])\n",
    "            result += prod\n",
    "        return result % modulus\n",
    "    return multilinear_extension\n",
    "\n",
    "# Generate the MLE for output level\n",
    "V0_MLE   = generate_multilinear_extension([2, 2]) # Prover need to compute this from processing the circuit\n",
    "g_0      = random.randrange(modulus)\n",
    "V_g      = V0_MLE([g_0])\n",
    "print(f\"The proof target is g_0 = {g_0}, V_0(g_0) = {V_g}\")"
   ]
  },
  {
   "cell_type": "markdown",
   "id": "1b7eb20541a87e7d",
   "metadata": {},
   "source": [
    "#### Round 2: First Sumcheck Protocol\n",
    "\n",
    "$$\n",
    "\\tilde{V}_0(g^{(0)}) = \\tilde{V}_0(2) = \\sum_{x,y \\in \\{0,1\\}^{s_1}} \\tilde{\\text{mult}}_1(g^{(0)}, x, y) (\\tilde{V}_1(x) \\tilde{V}_1(y)) + \\tilde{\\text{add}}_1(g^{(0)}, x, y) (\\tilde{V}_1(x) + \\tilde{V}_1(y)) = 2\n",
    "$$\n",
    "\n",
    "So the next step here in the round 2 is that we need to use Sumcheck to prove the above result is equal to $\\tilde{V}_0(g^{(0)}) = 2$.\n",
    "\n",
    "First, $\\mathcal{P}$ needs to calculate what is exactly $\\tilde{\\text{mult}}_1(g^{(0)}, x_1, x_2, y_1, y_2)$ and $\\tilde{\\text{add}}_1(g^{(0)}, x_1, x_2, y_1, y_2)$.\n",
    "\n",
    "We know that by the definition of wiring predicates. There are two gates, one *mult* and one *add* on layer 0. $V_0(0)$ is the *mult* one, which connects $V_1(00)$ and $V_1(10)$.\n",
    "\n",
    "So by definition of MLE, we can know that\n",
    "\n",
    "$$\n",
    "\\begin{aligned}\n",
    "&\\tilde{\\text{mult}}_1(g_1, x_1, x_2, y_1, y_2)\\\\\n",
    "=& (1-g_1)(1-x_1)(1-x_2)(y_1)(1-y_2) \\\\\n",
    "=& (1-2)(1-x_1)(1-x_2)(y_1)(1-y_2)\\\\\n",
    "=& (-1 \\% 5)(1-x_1)(1-x_2)(y_1)(1-y_2)\n",
    "=& 4(1-x_1)(1-x_2)(y_1)(1-y_2)\n",
    "\\end{aligned}\n",
    "$$"
   ]
  },
  {
   "cell_type": "code",
   "execution_count": 4,
   "id": "1f63475935293016",
   "metadata": {
    "ExecuteTime": {
     "end_time": "2024-07-31T03:43:32.405800Z",
     "start_time": "2024-07-31T03:43:32.403784Z"
    }
   },
   "outputs": [],
   "source": [
    "# Prover can know from the circuit that: between level 0 and level 1\n",
    "# there is only one mult gate, connect V0(0), V1(00), V1(10)\n",
    "# We convert bit string [0, 00, 10] into number, we got 5b'01000 = 8\n",
    "# So for mult predicate, we have \n",
    "mult1_tilde_values = [0] * 32\n",
    "mult1_tilde_values[8] = 1\n",
    "mult1_tilde_mle_raw = generate_multilinear_extension(mult1_tilde_values)"
   ]
  },
  {
   "cell_type": "code",
   "execution_count": 7,
   "id": "13f8145a7b2a7cf",
   "metadata": {
    "ExecuteTime": {
     "end_time": "2024-07-31T03:43:32.410064Z",
     "start_time": "2024-07-31T03:43:32.407391Z"
    }
   },
   "outputs": [
    {
     "name": "stdout",
     "output_type": "stream",
     "text": [
      "mult1_tilde([0,0,1,0]) = 4\n"
     ]
    }
   ],
   "source": [
    "# Now, because we already have the random g_1 = 2, we need to reduce such MLE to be 4 variables\n",
    "# we can further define such function to make such reduce work\n",
    "def reduce_variables(mle_func, fixed_values):\n",
    "    def reduced_func(input_vars):\n",
    "        full_vars = fixed_values[:]\n",
    "        j = 0\n",
    "        for i in range(len(fixed_values)):\n",
    "            # If input is `str`, it means non-fixed variables\n",
    "            if isinstance(fixed_values[i], str):\n",
    "                full_vars[i] = input_vars[j]\n",
    "                j += 1\n",
    "        return mle_func(full_vars)\n",
    "    return reduced_func\n",
    "\n",
    "# Know we can get the actual MLE for the mult. wiring predicate for level 0~1\n",
    "mult1_tilde = reduce_variables(mult1_tilde_mle_raw, [g_0, 'x1', 'x2', 'y1', 'y2'])\n",
    "print(f\"mult1_tilde([0,0,1,0]) = {mult1_tilde([0,0,1,0])}\")"
   ]
  },
  {
   "cell_type": "markdown",
   "id": "6948cf8f06d93aa1",
   "metadata": {},
   "source": [
    "Similarly, for the *add* gate:\n",
    "\n",
    "$$\n",
    "\\begin{aligned}\n",
    "&\\tilde{\\text{add}}_1(g_1, x_1, x_2, y_1, y_2)\\\\\n",
    "=& (g_1)(1-x_1)(x_2)(y_1)(y_2) \\\\\n",
    "=& 2(1-x_1)(x_2)(y_1)(y_2)\n",
    "\\end{aligned}\n",
    "$$"
   ]
  },
  {
   "cell_type": "code",
   "execution_count": 8,
   "id": "925522f44c6a09da",
   "metadata": {
    "ExecuteTime": {
     "end_time": "2024-07-31T03:43:32.413485Z",
     "start_time": "2024-07-31T03:43:32.411102Z"
    }
   },
   "outputs": [
    {
     "name": "stdout",
     "output_type": "stream",
     "text": [
      "add1_tilde([0, 1, 1, 1]) = 2\n"
     ]
    }
   ],
   "source": [
    "# We can do the same trick here. Prover will need to examine the circuit and generate\n",
    "# MLE for addition predicate.\n",
    "# Because there is only one Addition gate and the bit string is [1, 01, 11]\n",
    "# it means that 5b'11101 -> 29 in decimal\n",
    "add_tilde_values = [0] * 32\n",
    "add_tilde_values[29] = 1\n",
    "add_tilde_mle_raw = generate_multilinear_extension(add_tilde_values)\n",
    "add1_tilde = reduce_variables(add_tilde_mle_raw, [g_0, 'x1', 'x2', 'y1', 'y2'])\n",
    "print(f\"add1_tilde([0, 1, 1, 1]) = {add1_tilde([0, 1, 1, 1])}\")"
   ]
  },
  {
   "cell_type": "markdown",
   "id": "30de6937f09467d5",
   "metadata": {},
   "source": [
    "We can replace the $g^{(0)}$ with $2$ on the equation above, so we have the proof target to generate.\n",
    "\n",
    "Please note here that $s_1 = 2$ because there are 4 gates on the second layer.\n",
    "\n",
    "For the simplicity of computation, we use the following equations:\n",
    "\n",
    "$$\n",
    "\\begin{aligned}\n",
    "   g_{\\text{mult}}(x_1,x_2,y_1,y_2) = 4(1-x_1)(1-x_2)(y_1)(1-y_2) \\tilde{V}_1(x_1, x_2) \\tilde{V}_1(y_1, y_2)\n",
    "\\end{aligned}\n",
    "$$\n",
    "\n",
    "and\n",
    "\n",
    "$$\n",
    "\\begin{aligned}\n",
    "   g_{\\text{add}}(x_1,x_2,y_1,y_2) = 2(1-x_1)(x_2)(y_1)(y_2)[\\tilde{V}_1(x_1, x_2) + \\tilde{V}_1(y_1, y_2)]\n",
    "\\end{aligned}\n",
    "$$\n",
    "\n",
    "So now, our proving target is\n",
    "\n",
    "$$\n",
    "\\begin{aligned}\n",
    "2 =& \\sum_{x_1,x_2,y_1,y_2 \\in \\{0,1\\}} g_{\\text{add}}(x_1,x_2,y_1,y_2) + g_{\\text{mult}}(x_1, x_2, y_1, y_2)\\\\\n",
    "=& \\sum_{x_1,x_2,y_1,y_2 \\in \\{0,1\\}}g(x_1,x_2,y_1,y_2)\n",
    "\\end{aligned}\n",
    "$$\n",
    "\n",
    "where $g(x_1,x_2,y_1,y_2) = g_{\\text{add}}(x_1,x_2,y_1,y_2) + g_{\\text{mult}}(x_1,x_2,y_1,y_2)$\n",
    "\n",
    "We also need to know the MLE to represent the gate output $V_1(b_1, b_2)$ as shown below:\n",
    "\n",
    "$$\n",
    "V_1(b_1, b_2) = 2(1-b_1)(1-b_2) + 4(1-b_1)b_2 + b_1(1-b_2) + 3b_1b_2\n",
    "$$"
   ]
  },
  {
   "cell_type": "code",
   "execution_count": 55,
   "id": "621243bed89f1a2f",
   "metadata": {
    "ExecuteTime": {
     "end_time": "2024-07-31T03:43:32.418020Z",
     "start_time": "2024-07-31T03:43:32.415853Z"
    }
   },
   "outputs": [
    {
     "name": "stdout",
     "output_type": "stream",
     "text": [
      "V1_MLE(0, 0) = 2)\n",
      "V1_MLE(0, 1) = 4)\n",
      "V1_MLE(1, 0) = 1)\n",
      "V1_MLE(1, 1) = 3)\n"
     ]
    }
   ],
   "source": [
    "# Prover need to do the same thing for V1's MLE, by examining the values on level 1, we have\n",
    "V1_MLE = generate_multilinear_extension([2, 1, 4, 3])\n",
    "print(f\"V1_MLE(0, 0) = {V1_MLE([0, 0])})\")\n",
    "print(f\"V1_MLE(0, 1) = {V1_MLE([0, 1])})\")\n",
    "print(f\"V1_MLE(1, 0) = {V1_MLE([1, 0])})\")\n",
    "print(f\"V1_MLE(1, 1) = {V1_MLE([1, 1])})\")"
   ]
  },
  {
   "cell_type": "markdown",
   "id": "5a72460fc24f2a27",
   "metadata": {},
   "source": [
    "In order to proceed with the sumcheck proof, *Prover* needs to send the *Verifier* with an MLE $H_1(x_1)$ and claims that:\n",
    "\n",
    "$$\n",
    "H_1(x_1) = \\sum_{x_2,y_1,y_2 \\in \\{0,1\\}}g(x_1,x_2,y_1,y_2)\n",
    "$$\n",
    "\n",
    "Please note here that $x_1$ has been moved out of summation range. So, if the proof holds, we must have:\n",
    "\n",
    "$$\n",
    "\\tilde{V}_0(g^{(0)}) = 2 = H_1(0) + H_1(1)\n",
    "$$\n",
    "\n",
    "The *Prover* will send $H_1(x_1)$ to *Verifier*, *Verifier* will check if $2 = H_1(0) + H_1(1)$ holds or not. If the equation holds, then we proceed to next round of sumcheck. If not, *Verifier* will reject and stop.\n",
    "\n",
    "So the question is how should *Prover* calculate the $H_1(x_1)$?\n",
    "\n",
    "The simple answer is: we just do it via *BruteForce*. In this tutorial, we will do this for one time and the rest of calculations are just the same\n",
    "\n",
    "We can expand the expression of $H_1(x_1)$\n",
    "\n",
    "$$\n",
    "\\begin{aligned}\n",
    "H_1(x_1) &= \\tilde{\\text{mult}}_1(2, x_1, 0, 1, 0) \\tilde{V}_1(x_1, 0) \\tilde{V}_1(1, 0) + \\tilde{\\text{add}}_1(2, x_1,1,1,1)(\\tilde{V}_1(x_1, 1)+\\tilde{V}_1(1, 1))\\\\\n",
    "&= 4(1-x_1)(2(1-x_1)+x_1) + 2(1-x_1)(4(1-x_1)+3x_1+3) \\\\\n",
    "&= (1-x_1)(2-x_1)\n",
    "\\end{aligned}\n",
    "$$"
   ]
  },
  {
   "cell_type": "code",
   "execution_count": 56,
   "id": "fbb75e9a1f6d2baf",
   "metadata": {
    "ExecuteTime": {
     "end_time": "2024-07-31T03:43:32.423027Z",
     "start_time": "2024-07-31T03:43:32.418826Z"
    }
   },
   "outputs": [
    {
     "name": "stdout",
     "output_type": "stream",
     "text": [
      "x1 = 0, x2 = 0, y1 = 0, y2 = 0,  mult_term = 0, add_term = 0\n",
      "x1 = 0, x2 = 1, y1 = 0, y2 = 0,  mult_term = 0, add_term = 0\n",
      "x1 = 0, x2 = 0, y1 = 1, y2 = 0,  mult_term = 8, add_term = 0\n",
      "x1 = 0, x2 = 1, y1 = 1, y2 = 0,  mult_term = 0, add_term = 0\n",
      "x1 = 0, x2 = 0, y1 = 0, y2 = 1,  mult_term = 0, add_term = 0\n",
      "x1 = 0, x2 = 1, y1 = 0, y2 = 1,  mult_term = 0, add_term = 0\n",
      "x1 = 0, x2 = 0, y1 = 1, y2 = 1,  mult_term = 0, add_term = 0\n",
      "x1 = 0, x2 = 1, y1 = 1, y2 = 1,  mult_term = 0, add_term = 14\n",
      "x1 = 1, x2 = 0, y1 = 0, y2 = 0,  mult_term = 0, add_term = 0\n",
      "x1 = 1, x2 = 1, y1 = 0, y2 = 0,  mult_term = 0, add_term = 0\n",
      "x1 = 1, x2 = 0, y1 = 1, y2 = 0,  mult_term = 0, add_term = 0\n",
      "x1 = 1, x2 = 1, y1 = 1, y2 = 0,  mult_term = 0, add_term = 0\n",
      "x1 = 1, x2 = 0, y1 = 0, y2 = 1,  mult_term = 0, add_term = 0\n",
      "x1 = 1, x2 = 1, y1 = 0, y2 = 1,  mult_term = 0, add_term = 0\n",
      "x1 = 1, x2 = 0, y1 = 1, y2 = 1,  mult_term = 0, add_term = 0\n",
      "x1 = 1, x2 = 1, y1 = 1, y2 = 1,  mult_term = 0, add_term = 0\n",
      "x1 = 0, x2 = 0, y1 = 0, y2 = 0,  mult_term = 0, add_term = 0\n",
      "x1 = 0, x2 = 1, y1 = 0, y2 = 0,  mult_term = 0, add_term = 0\n",
      "x1 = 0, x2 = 0, y1 = 1, y2 = 0,  mult_term = 8, add_term = 0\n",
      "x1 = 0, x2 = 1, y1 = 1, y2 = 0,  mult_term = 0, add_term = 0\n",
      "x1 = 0, x2 = 0, y1 = 0, y2 = 1,  mult_term = 0, add_term = 0\n",
      "x1 = 0, x2 = 1, y1 = 0, y2 = 1,  mult_term = 0, add_term = 0\n",
      "x1 = 0, x2 = 0, y1 = 1, y2 = 1,  mult_term = 0, add_term = 0\n",
      "x1 = 0, x2 = 1, y1 = 1, y2 = 1,  mult_term = 0, add_term = 14\n",
      "x1 = 1, x2 = 0, y1 = 0, y2 = 0,  mult_term = 0, add_term = 0\n",
      "x1 = 1, x2 = 1, y1 = 0, y2 = 0,  mult_term = 0, add_term = 0\n",
      "x1 = 1, x2 = 0, y1 = 1, y2 = 0,  mult_term = 0, add_term = 0\n",
      "x1 = 1, x2 = 1, y1 = 1, y2 = 0,  mult_term = 0, add_term = 0\n",
      "x1 = 1, x2 = 0, y1 = 0, y2 = 1,  mult_term = 0, add_term = 0\n",
      "x1 = 1, x2 = 1, y1 = 0, y2 = 1,  mult_term = 0, add_term = 0\n",
      "x1 = 1, x2 = 0, y1 = 1, y2 = 1,  mult_term = 0, add_term = 0\n",
      "x1 = 1, x2 = 1, y1 = 1, y2 = 1,  mult_term = 0, add_term = 0\n",
      "Verifier; H1_x1(0) = 2, H1(1) = 0, Pass = True\n"
     ]
    }
   ],
   "source": [
    "# By combining everything together, we have our proving target:\n",
    "def V0_g(input_vars):\n",
    "    x1, x2, y1, y2 = input_vars\n",
    "    mult_term = mult1_tilde([x1, x2, y1, y2]) * V1_MLE([x1, x2]) * V1_MLE([y1, y2])\n",
    "    add_term  = add1_tilde([x1, x2, y1, y2]) * (V1_MLE([x1, x2]) + V1_MLE([y1, y2]))\n",
    "    print(f\"x1 = {x1}, x2 = {x2}, y1 = {y1}, y2 = {y2},  mult_term = {mult_term}, add_term = {add_term}\")\n",
    "    return (mult_term + add_term) % modulus\n",
    "\n",
    "# The first round of sumcheck, prover need to compute a H1(x1)\n",
    "# It basically traverse the combination of all other three variables (x2, y1, y2)\n",
    "def H1_x1(x1):\n",
    "    return (V0_g([x1, 0, 0 ,0]) + V0_g([x1, 1, 0 ,0]) + V0_g([x1, 0, 1, 0]) + V0_g([x1, 1, 1, 0]) + V0_g([x1, 0, 0 ,1]) + V0_g([x1, 1, 0 ,1]) + V0_g([x1, 0, 1, 1]) + V0_g([x1, 1, 1, 1])) % modulus\n",
    "\n",
    "# Prover will seed this H1_x1 to verifier and evaluate on 0 and 1\n",
    "# and check if the sum is equal to V0(g0)\n",
    "print(f\"Verifier; H1_x1(0) = {H1_x1(0)}, H1(1) = {H1_x1(1)}, Pass = {(H1_x1(0) + H1_x1(1)) == V_g}\")"
   ]
  },
  {
   "cell_type": "markdown",
   "id": "4891fc419cfc8109",
   "metadata": {},
   "source": [
    "Before we can proceed to the next round, *Verifier* will pick a random number, let say $x_1 = 3$.  *Verifier* will return $H_1(3)=2$ back to *Prover*, which becomes the proving target for next round.\n",
    "\n",
    "Similarly, as the second round of sumcheck protocol, we need to prove that $H_1(3) = H_2(0) + H_2(1)$, where\n",
    "\n",
    "$$\n",
    "2 = H_2(x_2) = \\sum_{y_1,y_2 \\in \\{0,1\\}}g(3,x_2,y_1,y_2)\n",
    "$$"
   ]
  },
  {
   "cell_type": "code",
   "execution_count": 57,
   "id": "951662eba57a51c4",
   "metadata": {
    "ExecuteTime": {
     "end_time": "2024-07-31T03:43:32.425928Z",
     "start_time": "2024-07-31T03:43:32.423922Z"
    }
   },
   "outputs": [
    {
     "name": "stdout",
     "output_type": "stream",
     "text": [
      "x1 = 0, x2 = 0, y1 = 0, y2 = 0,  mult_term = 0, add_term = 0\n",
      "x1 = 0, x2 = 1, y1 = 0, y2 = 0,  mult_term = 0, add_term = 0\n",
      "x1 = 0, x2 = 0, y1 = 1, y2 = 0,  mult_term = 8, add_term = 0\n",
      "x1 = 0, x2 = 1, y1 = 1, y2 = 0,  mult_term = 0, add_term = 0\n",
      "x1 = 0, x2 = 0, y1 = 0, y2 = 1,  mult_term = 0, add_term = 0\n",
      "x1 = 0, x2 = 1, y1 = 0, y2 = 1,  mult_term = 0, add_term = 0\n",
      "x1 = 0, x2 = 0, y1 = 1, y2 = 1,  mult_term = 0, add_term = 0\n",
      "x1 = 0, x2 = 1, y1 = 1, y2 = 1,  mult_term = 0, add_term = 14\n",
      "Verifier returns random_x1 = 0, H1_x1(random_x1) = 2)\n"
     ]
    }
   ],
   "source": [
    "random_x1 = random.randrange(modulus)\n",
    "print(f\"Verifier returns random_x1 = {random_x1}, H1_x1(random_x1) = {H1_x1(random_x1)})\")"
   ]
  },
  {
   "cell_type": "markdown",
   "id": "1f65bf88bbee8024",
   "metadata": {},
   "source": [
    "\n",
    "Similarly, we can expand the expression above\n",
    "\n",
    "$$\n",
    "\\begin{aligned}\n",
    "H_2(x_2) &= \\tilde{\\text{mult}}_1(2, 3, x_2, 1, 0) \\tilde{V}_1(3, x_2) \\tilde{V}_1(1, 0) + \\tilde{\\text{add}}_1(2, 3,x_2,1,1)(\\tilde{V}_1(3, x_2)+\\tilde{V}_1(1, 1))\\\\\n",
    "&= 3(x_2-1)(2x_2-1) + x_2(2x_2+2)\n",
    "\\end{aligned}\n",
    "$$"
   ]
  },
  {
   "cell_type": "code",
   "execution_count": 58,
   "id": "fe5582a977ae738",
   "metadata": {
    "ExecuteTime": {
     "end_time": "2024-07-31T03:43:32.428676Z",
     "start_time": "2024-07-31T03:43:32.426737Z"
    }
   },
   "outputs": [],
   "source": [
    "def H2_x2(x2):\n",
    "    return (V0_g([random_x1, x2, 0 ,0]) + V0_g([random_x1, x2, 1, 0]) + V0_g([random_x1, x2, 0 ,1]) + V0_g([random_x1, x2, 1, 1])) % modulus"
   ]
  },
  {
   "cell_type": "markdown",
   "id": "ad3e2ae197b5b5d1",
   "metadata": {},
   "source": [
    "*Prover* sends the $H_2(x_2) = 3(x_2-1)(2x_2-1) + x_2(2x_2+2)$, *Verifier* evaluates $H_2(0)$ and $H_2(1)$\n",
    "\n",
    "$$\n",
    "\\begin{aligned}\n",
    "H_2(0) = 3(-1)(-1)+0=3\\\\\n",
    "H_2(1) = 1(2+2) = 4\n",
    "\\end{aligned}\n",
    "$$"
   ]
  },
  {
   "cell_type": "code",
   "execution_count": 59,
   "id": "a2054190426b9cf1",
   "metadata": {
    "ExecuteTime": {
     "end_time": "2024-07-31T03:43:32.448825Z",
     "start_time": "2024-07-31T03:43:32.446330Z"
    }
   },
   "outputs": [
    {
     "name": "stdout",
     "output_type": "stream",
     "text": [
      "x1 = 0, x2 = 0, y1 = 0, y2 = 0,  mult_term = 0, add_term = 0\n",
      "x1 = 0, x2 = 0, y1 = 1, y2 = 0,  mult_term = 8, add_term = 0\n",
      "x1 = 0, x2 = 0, y1 = 0, y2 = 1,  mult_term = 0, add_term = 0\n",
      "x1 = 0, x2 = 0, y1 = 1, y2 = 1,  mult_term = 0, add_term = 0\n",
      "x1 = 0, x2 = 1, y1 = 0, y2 = 0,  mult_term = 0, add_term = 0\n",
      "x1 = 0, x2 = 1, y1 = 1, y2 = 0,  mult_term = 0, add_term = 0\n",
      "x1 = 0, x2 = 1, y1 = 0, y2 = 1,  mult_term = 0, add_term = 0\n",
      "x1 = 0, x2 = 1, y1 = 1, y2 = 1,  mult_term = 0, add_term = 14\n",
      "x1 = 0, x2 = 0, y1 = 0, y2 = 0,  mult_term = 0, add_term = 0\n",
      "x1 = 0, x2 = 1, y1 = 0, y2 = 0,  mult_term = 0, add_term = 0\n",
      "x1 = 0, x2 = 0, y1 = 1, y2 = 0,  mult_term = 8, add_term = 0\n",
      "x1 = 0, x2 = 1, y1 = 1, y2 = 0,  mult_term = 0, add_term = 0\n",
      "x1 = 0, x2 = 0, y1 = 0, y2 = 1,  mult_term = 0, add_term = 0\n",
      "x1 = 0, x2 = 1, y1 = 0, y2 = 1,  mult_term = 0, add_term = 0\n",
      "x1 = 0, x2 = 0, y1 = 1, y2 = 1,  mult_term = 0, add_term = 0\n",
      "x1 = 0, x2 = 1, y1 = 1, y2 = 1,  mult_term = 0, add_term = 14\n",
      "Verifier; H2_x2(0) = 3, H2_x2(1) = 4, Pass = True\n"
     ]
    }
   ],
   "source": [
    "H2_0 = H2_x2(0)\n",
    "H2_1 = H2_x2(1)\n",
    "print(f\"Verifier; H2_x2(0) = {H2_0}, H2_x2(1) = {H2_1}, Pass = {(H2_0 + H2_1)%modulus == H1_x1(random_x1)}\")"
   ]
  },
  {
   "cell_type": "markdown",
   "id": "85995660d47a0760",
   "metadata": {},
   "source": [
    "So we have $H_2(0)+H_2(1) = 3 + 4\\ mod\\ 5 = 2$, which is equal to $H_1(3) = 2$, so *Verifier* accepts and picks another random number as $x_2$, let say $x_2 = 4$, and the sumcheck protocol proceeds to the next round."
   ]
  },
  {
   "cell_type": "code",
   "execution_count": 60,
   "id": "177217c195a02341",
   "metadata": {
    "ExecuteTime": {
     "end_time": "2024-07-31T03:43:32.453965Z",
     "start_time": "2024-07-31T03:43:32.450185Z"
    },
    "scrolled": true
   },
   "outputs": [
    {
     "name": "stdout",
     "output_type": "stream",
     "text": [
      "x1 = 0, x2 = 2, y1 = 0, y2 = 0,  mult_term = 0, add_term = 0\n",
      "x1 = 0, x2 = 2, y1 = 1, y2 = 0,  mult_term = 1, add_term = 0\n",
      "x1 = 0, x2 = 2, y1 = 0, y2 = 1,  mult_term = 0, add_term = 0\n",
      "x1 = 0, x2 = 2, y1 = 1, y2 = 1,  mult_term = 0, add_term = 16\n",
      "Verifier returns random_x2 = 2, H2_x2(random_x2) = 2)\n",
      "x1 = 0, x2 = 2, y1 = 0, y2 = 0,  mult_term = 0, add_term = 0\n",
      "x1 = 0, x2 = 2, y1 = 0, y2 = 1,  mult_term = 0, add_term = 0\n",
      "x1 = 0, x2 = 2, y1 = 1, y2 = 0,  mult_term = 1, add_term = 0\n",
      "x1 = 0, x2 = 2, y1 = 1, y2 = 1,  mult_term = 0, add_term = 16\n",
      "x1 = 0, x2 = 2, y1 = 0, y2 = 0,  mult_term = 0, add_term = 0\n",
      "x1 = 0, x2 = 2, y1 = 1, y2 = 0,  mult_term = 1, add_term = 0\n",
      "x1 = 0, x2 = 2, y1 = 0, y2 = 1,  mult_term = 0, add_term = 0\n",
      "x1 = 0, x2 = 2, y1 = 1, y2 = 1,  mult_term = 0, add_term = 16\n",
      "Verifier; H3_y1(0) = 0, H3_y1(1) = 2, Pass = True\n",
      "x1 = 0, x2 = 2, y1 = 1, y2 = 0,  mult_term = 1, add_term = 0\n",
      "x1 = 0, x2 = 2, y1 = 1, y2 = 1,  mult_term = 0, add_term = 16\n",
      "Verifier returns random_y1 = 1, H3_y1(random_y1) = 2)\n",
      "x1 = 0, x2 = 2, y1 = 1, y2 = 0,  mult_term = 1, add_term = 0\n",
      "x1 = 0, x2 = 2, y1 = 1, y2 = 1,  mult_term = 0, add_term = 16\n",
      "x1 = 0, x2 = 2, y1 = 1, y2 = 0,  mult_term = 1, add_term = 0\n",
      "x1 = 0, x2 = 2, y1 = 1, y2 = 1,  mult_term = 0, add_term = 16\n",
      "Verifier; H4_y2(0) = 1, H4_y2(1) = 1, Pass = True\n",
      "x1 = 0, x2 = 2, y1 = 1, y2 = 2,  mult_term = 0, add_term = 3\n",
      "Verifier returns random_y2 = 2, H4_y2(random_y2) = 3)\n"
     ]
    }
   ],
   "source": [
    "# We can continue with this computation to get all four random numbers.\n",
    "random_x2 = random.randrange(modulus)\n",
    "print(f\"Verifier returns random_x2 = {random_x2}, H2_x2(random_x2) = {H2_x2(random_x2)})\")\n",
    "\n",
    "def H3_y1(y1):\n",
    "    return (V0_g([random_x1, random_x2, y1 ,0]) + V0_g([random_x1, random_x2, y1, 1])) % modulus\n",
    "\n",
    "H3_0 = H3_y1(0)\n",
    "H3_1 = H3_y1(1)\n",
    "print(f\"Verifier; H3_y1(0) = {H3_0}, H3_y1(1) = {H3_1}, Pass = {(H3_0 + H3_1)%modulus == H2_x2(random_x2)}\")\n",
    "\n",
    "random_y1 = random.randrange(modulus)\n",
    "print(f\"Verifier returns random_y1 = {random_y1}, H3_y1(random_y1) = {H3_y1(random_y1)})\")\n",
    "\n",
    "def H4_y2(y2):\n",
    "    return (V0_g([random_x1, random_x2, random_y1 ,y2])) % modulus\n",
    "H4_0 = H4_y2(0)\n",
    "H4_1 = H4_y2(1)\n",
    "print(f\"Verifier; H4_y2(0) = {H4_0}, H4_y2(1) = {H4_1}, Pass = {(H4_0 + H4_1)%modulus == H3_y1(random_y1)}\")\n",
    "\n",
    "random_y2 = random.randrange(modulus)\n",
    "print(f\"Verifier returns random_y2 = {random_y2}, H4_y2(random_y2) = {H4_y2(random_y2)})\")"
   ]
  },
  {
   "cell_type": "markdown",
   "id": "755b9da87b399d5f",
   "metadata": {},
   "source": [
    "#### Last Round: Random Combination\n",
    "\n",
    "At the end of this layer's sumcheck, $\\mathcal{V}$ have four random number: $(x_1,x_2,y_1,y_2) = (3,4,1,2)$. By sending the $\\mathcal{V}$ the result of $\\tilde{V}(3,4), \\tilde{V}(1,2)$, and the result of $\\tilde{\\text{mult}}_1(2, 3, 4, 1, 2)$, and $\\tilde{\\text{add}}_1(2, 3, 4, 1, 2)$. The $\\mathcal{V}$ checks:\n",
    "\n",
    "$$\n",
    "H_4(y_2) = H_4(2) == \\tilde{\\text{mult}}_1(2, 3, 4, 1, 2) \\tilde{V}_1(3, 4) \\tilde{V}_1(1, 2) + \\tilde{\\text{add}}_1(2,3,4,1,2)(\\tilde{V}_1(3, 4)+\\tilde{V}_1(1, 2))\n",
    "$$\n",
    "\n",
    "If it is the same, then they pass this round. Then for the rest layers before input ($i=1..(d-1)$). The verifier $\\mathcal{V}$ picks two random number from the field, let say $(\\alpha, \\beta) = (3, 1)$, so our proving target becomes:\n",
    "\n",
    "$$\n",
    "\\alpha \\tilde{V}_1(3, 4) + \\beta \\tilde{V}_1(1, 2) = 3(2(1−3)(1−4) + 4(1−3)(4) + 3(1−4) + 3(3)(4)) + 2(0) = 1\n",
    "$$\n",
    "\n",
    "For simplicity, we next use $u^{(i)}$ and $v^{(i)}$ to denote $(x_1,x_2)$ and $(y_1,y_2)$. So the proving target for the Layer 2 of GKR is\n",
    "\n",
    "$$\n",
    "1 = \\sum_{x,y \\in \\{0,1\\}^{s_i+1}} \\left( (\\alpha^{(i)} \\tilde{\\text{mult}}_{i+1}(u^{(i)}, x, y) + \\beta^{(i)} \\tilde{\\text{mult}}_{i+1}(v^{(i)}, x, y)) (\\tilde{V}_{i+1}(x) \\tilde{V}_{i+1}(y)) \\right) + \\left( (\\alpha^{(i)} \\tilde{\\text{add}}_{i+1}(u^{(i)}, x, y) + \\beta^{(i)} \\tilde{\\text{add}}_{i+1}(v^{(i)}, x, y)) (\\tilde{V}_{i+1}(x) + \\tilde{V}_{i+1}(y)) \\right)\n",
    "$$\n",
    "\n",
    "We can notice that Layer 1 only contains $\\text{mult}$ gates. For the simplicity of illustration, our proving target becomes\n",
    "\n",
    "$$\n",
    "1 = \\sum_{x,y \\in \\{0,1\\}^{s_i+1}} (\\alpha^{(i)} \\tilde{\\text{mult}}_{i+1}(u^{(i)}, x, y) + \\beta^{(i)} \\tilde{\\text{mult}}_{i+1}(v^{(i)}, x, y)) (\\tilde{V}_{i+1}(x) \\tilde{V}_{i+1}(y))\n",
    "$$\n",
    "\n",
    "By adding the random challenges $(\\alpha, \\beta) = (3, 1)$ and $(x_1,x_2,y_1,y_2) = (3,4,1,2)$ from previous layer, we have\n",
    "\n",
    "$$\n",
    "1 = \\sum_{x,y \\in \\{0,1\\}^{s_i+1}} (3 \\times \\tilde{\\text{mult}}_{i+1}((3,4), x, y) + 1 \\times \\tilde{\\text{mult}}_{i+1}((1,2), x, y)) (\\tilde{V}_{i+1}(x) \\tilde{V}_{i+1}(y))\n",
    "$$"
   ]
  },
  {
   "cell_type": "code",
   "execution_count": 61,
   "id": "8b0b71c9bd6f52e5",
   "metadata": {
    "ExecuteTime": {
     "end_time": "2024-07-31T03:43:32.459876Z",
     "start_time": "2024-07-31T03:43:32.457852Z"
    }
   },
   "outputs": [
    {
     "name": "stdout",
     "output_type": "stream",
     "text": [
      "ProveTarget = 4, (random_x1, random_x2, random_y1, random_y2) = [0, 2, 1, 2]\n"
     ]
    }
   ],
   "source": [
    "alpha = random.randrange(modulus)\n",
    "beta = random.randrange(modulus)\n",
    "\n",
    "ProveTarget = (alpha * V1_MLE([random_x1, random_x2]) + beta * V1_MLE([random_y1, random_y2])) % modulus\n",
    "print(f\"ProveTarget = {ProveTarget}, (random_x1, random_x2, random_y1, random_y2) = {[random_x1, random_x2, random_y1, random_y2]}\")"
   ]
  },
  {
   "cell_type": "markdown",
   "id": "5d6e10e73cdc9883",
   "metadata": {},
   "source": [
    "### Step 3: Linear GKR\n",
    "\n",
    "In order to prove the equation above, we rewrite the equation above as\n",
    "\n",
    "$$\n",
    "\\sum_{x_1,x_2,y_1,y_2 \\in \\{0,1\\}} (3 \\times \\tilde{\\text{mult}}_{2}((3,4), x_1,x_2,y_1,y_2) + 1 \\times \\tilde{\\text{mult}}_{2}((1,2), x_1,x_2,y_1,y_2)) \\tilde{V}_{2}(x_1,x_2) \\tilde{V}_{2}(y_1,y_2)\n",
    "$$\n",
    "\n",
    "We simplify the equation to:\n",
    "\n",
    "$$\n",
    "\\sum_{x_1,x_2,y_1,y_2 \\in \\{0,1\\}} \\tilde{\\text{Mult}}_{2}(x_1,x_2,y_1,y_2) \\tilde{V}_{2}(x_1,x_2) \\tilde{V}_{2}(y_1,y_2)\n",
    "$$\n",
    "\n",
    "where\n",
    "\n",
    "$$\n",
    "\\begin{aligned}\n",
    "\\tilde{\\text{Mult}}_{2}(x_1,x_2,y_1,y_2) = (3 \\times \\tilde{\\text{mult}}_{2}((3,4), x_1,x_2,y_1,y_2) + 1 \\times \\tilde{\\text{mult}}_{2}((1,2), x_1,x_2,y_1,y_2))\n",
    "\\end{aligned}\n",
    "$$\n",
    "\n",
    "So the proving target becomes \n",
    "\n",
    "$$\n",
    "1 =?= \\sum_{x_1,x_2,y_1,y_2 \\in \\{0,1\\}} \\tilde{\\text{Mult}}_{2}(x_1,x_2,y_1,y_2) \\tilde{V}_{2}(x_1,x_2) \\tilde{V}_{2}(y_1,y_2)\n",
    "$$\n",
    "\n",
    "#### Phase 1\n",
    "\n",
    "Unlike the regular sumcheck in Step 2, here we introduce a lookup table $h_2(x_1,x_2)$ to speedup the process of sumcheck (You can still use the regular sumcheck protocol)\n",
    "\n",
    "Before we do that, we need to calculate some MLE expression for $\\tilde{\\text{Mult}}_{2}(x_1,x_2,y_1,y_2)$ and $\\tilde{V}_{2}(b_1,b_2)$\n",
    "\n",
    "Audiences can do the calculation by themselves to double check if they match.\n",
    "\n",
    "My calculation is shown as below:\n",
    "\n",
    "$$\n",
    "\\tilde{V}_{2}(b_1,b_2) = 2(1-b_1)(1-b_2) + (1-b_1)b_2 + b_1(1-b_2) + 4b_1b_2 = 2 - b_1 - b_2 + 4b_1b_2\n",
    "$$\n",
    "\n",
    "$$\n",
    "\\begin{aligned}\n",
    "3 \\times \\tilde{\\text{mult}}_{2}((3,4), x_1,x_2,y_1,y_2) =& 3 \\times ( (1-3)(1-4)(1-x_1)(1-x_2)(1-y_1)(y2)+\\\\\n",
    "&(1-3)4x_1(1-x_2)y_1y_2+\\\\\n",
    "&3(1-4)(1-x_1)x_2y_1(1-y_2)+\\\\\n",
    "&3\\times 4 (1-x_1)(1-x_2)y_1y_2 ) \\\\\n",
    "=&3(1-x_1)(1-x_2)(1-y_1)(y2)+\\\\\n",
    "&x_1(1-x_2)y_1y_2+\\\\\n",
    "&3(1-x_1)x_2y_1(1-y_2)+\\\\\n",
    "&(1-x_1)(1-x_2)y_1y_2 ) \\\\\n",
    "\\end{aligned}\n",
    "$$\n",
    "\n",
    "$$\n",
    "\\begin{aligned}\n",
    "1 \\times \\tilde{\\text{mult}}_{2}((1,2), x_1,x_2,y_1,y_2) =& ( (1-1)(1-1)(1-x_1)(1-x_2)(1-y_1)(y2)+\\\\\n",
    "&(1-1)x_1(1-x_2)y_1y_2+\\\\\n",
    "&(1-1)(1-x_1)x_2y_1(1-y_2)+\\\\\n",
    "&1\\times 1 (1-x_1)(1-x_2)y_1y_2 ) \\\\\n",
    "=&(1-x_1)(1-x_2)y_1y_2\n",
    "\\end{aligned}\n",
    "$$\n",
    "\n",
    "So we have\n",
    "\n",
    "$$\n",
    "\\begin{aligned}\n",
    "\\tilde{\\text{Mult}}_{2}(x_1,x_2,y_1,y_2) =& \\\\\n",
    "&3(1-x_1)(1-x_2)(1-y_1)(y2)+\\\\\n",
    "&x_1(1-x_2)y_1y_2+\\\\\n",
    "&3(1-x_1)x_2y_1(1-y_2)+\\\\\n",
    "&2(1-x_1)(1-x_2)y_1y_2)\n",
    "\\end{aligned}\n",
    "$$\n",
    "\n",
    "And in order to calculate the $h_2(x_1,x_2)$, we have\n",
    "\n",
    "$$\n",
    "h_2(x_1,x_2) = \\sum_{y_1,y_2 \\in \\{0,1\\}} \\tilde{\\text{Mult}}_{2}(x_1,x_2,y_1,y_2) \\tilde{V}_{2}(y_1,y_2)\n",
    "$$\n",
    "\n",
    "Because travsing the all combination of $(y_1, y_2)$ is like travsing the binary tree, where if $y_i$ is 0, we calculate $(1-y_i)$ in MLE and where $y_i$ is 1, we have $y_i$. By doing so, we can construct the lookup table $h_2(x_1,x_2)$ in O(n) time as\n",
    "\n",
    "$$\n",
    "h_2(x_1,x_2) = (1-x_1)(1-x_2) + 3(1-x_1)x_2\n",
    "$$\n",
    "\n",
    "So the proving target becomes\n",
    "\n",
    "$$\n",
    "\\begin{aligned}\n",
    "1 =?=& \\sum_{x_1,x_2 \\in \\{0,1\\}} h_2(x_1,x_2) \\tilde{V}_{2}(x_1,x_2) \\\\\n",
    "=& \\sum_{x_1,x_2 \\in \\{0,1\\}} ((1-x_1)(1-x_2) + 3(1-x_1)x_2) (2 - x_1 - x_2 + 4x_1x_2)\n",
    "\\end{aligned}\n",
    "$$\n",
    "\n",
    "And then rest of computation becomes the same as Step 2 (regular sumcheck), which we will skip here. At the end of Phase 1, we will have a random number for $(x_1,x_2)$, let say $(x_1,x_2) = (4,3)$"
   ]
  },
  {
   "cell_type": "code",
   "execution_count": 62,
   "id": "4899d8275588f275",
   "metadata": {
    "ExecuteTime": {
     "end_time": "2024-07-31T03:43:32.469604Z",
     "start_time": "2024-07-31T03:43:32.461359Z"
    }
   },
   "outputs": [
    {
     "name": "stdout",
     "output_type": "stream",
     "text": [
      "V2_MLE(0, 0) = 2)\n",
      "V2_MLE(0, 1) = 1)\n",
      "V2_MLE(1, 0) = 1)\n",
      "V2_MLE(1, 1) = 4)\n",
      "Build multilinear extension for mult2_tilde\n",
      "mult2_tilde_mle_raw([0,0,0,0,0,1]) = 1\n",
      "mult2_tilde_mle_raw([0,1,1,0,1,1]) = 1\n",
      "mult2_tilde_mle_raw([1,0,0,1,1,0]) = 1\n",
      "mult2_tilde_mle_raw([1,1,0,0,1,1]) = 1\n",
      "Filling with random challenge from layer 1 (terms belongs to alpha)\n",
      "mult2_tilde_alpha([0,0,0,1]) = 4\n",
      "mult2_tilde_alpha([1,0,1,1]) = 2\n",
      "mult2_tilde_alpha([0,1,1,0]) = 0\n",
      "mult2_tilde_alpha([0,0,1,1]) = 0\n",
      "Filling with random challenge from layer 1 (terms belongs to beta)\n",
      "mult2_tilde_beta([0,0,0,1]) = 0\n",
      "mult2_tilde_beta([1,0,1,1]) = 0\n",
      "mult2_tilde_beta([0,1,1,0]) = 4\n",
      "mult2_tilde_beta([0,0,1,1]) = 2\n",
      "Verifier; H1_hg_linear_x1(0) = 2, H1_hg_linear_x1(1) = 2, Pass = True\n"
     ]
    }
   ],
   "source": [
    "# Like the regular GKR, prover will need to know MLE for V2\n",
    "V2_MLE = generate_multilinear_extension([2, 1, 1, 4])\n",
    "print(f\"V2_MLE(0, 0) = {V2_MLE([0, 0])})\")\n",
    "print(f\"V2_MLE(0, 1) = {V2_MLE([0, 1])})\")\n",
    "print(f\"V2_MLE(1, 0) = {V2_MLE([1, 0])})\")\n",
    "print(f\"V2_MLE(1, 1) = {V2_MLE([1, 1])})\")\n",
    "\n",
    "# Because there are only mult. gates between layer 1 and layer 2\n",
    "# mult2_tilde([0,0,0,0,0,1]) = 1 --> 6b'100000 = 32\n",
    "# mult2_tilde([0,1,1,0,1,1]) = 1 --> 6b'110110 = 54\n",
    "# mult2_tilde([1,0,0,1,1,0]) = 1 --> 6b'011001 = 25\n",
    "# mult2_tilde([1,1,0,0,1,1]) = 1 --> 6b'110011 = 51\n",
    "mult2_tilde_values = [0] * 64\n",
    "mult2_tilde_values[32] = 1\n",
    "mult2_tilde_values[54] = 1\n",
    "mult2_tilde_values[25] = 1\n",
    "mult2_tilde_values[51] = 1\n",
    "\n",
    "print(\"Build multilinear extension for mult2_tilde\")\n",
    "mult2_tilde_mle_raw = generate_multilinear_extension(mult2_tilde_values)\n",
    "print(f\"mult2_tilde_mle_raw([0,0,0,0,0,1]) = {mult2_tilde_mle_raw([0,0,0,0,0,1])}\")\n",
    "print(f\"mult2_tilde_mle_raw([0,1,1,0,1,1]) = {mult2_tilde_mle_raw([0,1,1,0,1,1])}\")\n",
    "print(f\"mult2_tilde_mle_raw([1,0,0,1,1,0]) = {mult2_tilde_mle_raw([1,0,0,1,1,0])}\")\n",
    "print(f\"mult2_tilde_mle_raw([1,1,0,0,1,1]) = {mult2_tilde_mle_raw([1,1,0,0,1,1])}\")\n",
    "\n",
    "print(\"Filling with random challenge from layer 1 (terms belongs to alpha)\")\n",
    "mult2_tilde_alpha = reduce_variables(mult2_tilde_mle_raw, [random_x1, random_x2, 'x1', 'x2', 'y1', 'y2'])\n",
    "print(f\"mult2_tilde_alpha([0,0,0,1]) = {mult2_tilde_alpha([0, 0, 0, 1])}\")\n",
    "print(f\"mult2_tilde_alpha([1,0,1,1]) = {mult2_tilde_alpha([1, 0, 1, 1])}\")\n",
    "print(f\"mult2_tilde_alpha([0,1,1,0]) = {mult2_tilde_alpha([0, 1, 1, 0])}\")\n",
    "print(f\"mult2_tilde_alpha([0,0,1,1]) = {mult2_tilde_alpha([0, 0, 1, 1])}\")\n",
    "\n",
    "print(\"Filling with random challenge from layer 1 (terms belongs to beta)\")\n",
    "mult2_tilde_beta = reduce_variables(mult2_tilde_mle_raw, [random_y1, random_y2, 'x1', 'x2', 'y1', 'y2'])\n",
    "print(f\"mult2_tilde_beta([0,0,0,1]) = {mult2_tilde_beta([0, 0, 0, 1])}\")\n",
    "print(f\"mult2_tilde_beta([1,0,1,1]) = {mult2_tilde_beta([1, 0, 1, 1])}\")\n",
    "print(f\"mult2_tilde_beta([0,1,1,0]) = {mult2_tilde_beta([0, 1, 1, 0])}\")\n",
    "print(f\"mult2_tilde_beta([0,0,1,1]) = {mult2_tilde_beta([0, 0, 1, 1])}\")\n",
    "\n",
    "# We can still use the \"trivial\" way to compute GKR for the layer 2, by building the same function like `V0_g` above, we can build V1_g:\n",
    "# Note: we need to include random combination of alpha and beta\n",
    "def V1_g_trivial(input_vars):\n",
    "    x1, x2, y1, y2 = input_vars\n",
    "    alpha_term = alpha * mult2_tilde_alpha([x1, x2, y1, y2]) * V2_MLE([x1, x2]) * V2_MLE([y1, y2])\n",
    "    beta_term  = beta  * mult2_tilde_beta([x1, x2, y1, y2]) * V2_MLE([x1, x2]) * V2_MLE([y1, y2])\n",
    "    print(f\"x1 = {x1}, x2 = {x2}, y1 = {y1}, y2 = {y2},  alpha_term = {alpha_term}, beta_term = {beta_term}\")\n",
    "    return (alpha_term + beta_term) % modulus\n",
    "\n",
    "# We can further build a hg function that traverse all y1, y2 combination\n",
    "# The code below is only for demonstration purpose, in actual implementation, it will be done via lookup table\n",
    "# the key step of traverse (the `eq` step) is shown later\n",
    "def hg(xs):\n",
    "    x1, x2 = xs\n",
    "    term00 = alpha * mult2_tilde_alpha([x1, x2, 0, 0]) * V2_MLE([0, 0]) + beta * mult2_tilde_beta([x1, x2, 0, 0]) * V2_MLE([0, 0])\n",
    "    term01 = alpha * mult2_tilde_alpha([x1, x2, 0, 1]) * V2_MLE([0, 1]) + beta * mult2_tilde_beta([x1, x2, 0, 1]) * V2_MLE([0, 1])\n",
    "    term10 = alpha * mult2_tilde_alpha([x1, x2, 1, 0]) * V2_MLE([1, 0]) + beta * mult2_tilde_beta([x1, x2, 1, 0]) * V2_MLE([1, 0])\n",
    "    term11 = alpha * mult2_tilde_alpha([x1, x2, 1, 1]) * V2_MLE([1, 1]) + beta * mult2_tilde_beta([x1, x2, 1, 1]) * V2_MLE([1, 1])\n",
    "    return term00 + term01 + term10 + term11\n",
    "    \n",
    "def V1_hg_linear(xs):\n",
    "    x1, x2 = xs\n",
    "    return (V2_MLE([x1, x2]) * hg(xs)) % modulus\n",
    "\n",
    "def H1_hg_linear_x1(x1):\n",
    "    return V1_hg_linear([x1, 0]) + V1_hg_linear([x1, 1])\n",
    "\n",
    "H1_hg_linear_0 = H1_hg_linear_x1(0)\n",
    "H1_hg_linear_1 = H1_hg_linear_x1(1)\n",
    "print(f\"Verifier; H1_hg_linear_x1(0) = {H1_hg_linear_0}, H1_hg_linear_x1(1) = {H1_hg_linear_1}, Pass = {(H1_hg_linear_0 + H1_hg_linear_1)%modulus == ProveTarget}\")"
   ]
  },
  {
   "cell_type": "code",
   "execution_count": 63,
   "id": "fca33f9a2cc9c120",
   "metadata": {
    "ExecuteTime": {
     "end_time": "2024-07-31T03:43:32.472612Z",
     "start_time": "2024-07-31T03:43:32.470512Z"
    }
   },
   "outputs": [
    {
     "name": "stdout",
     "output_type": "stream",
     "text": [
      "Verifier returns random_v2_x1 = 3, H1_hg_linear_x1(random_v2_x1) = 1\n"
     ]
    }
   ],
   "source": [
    "random_v2_x1 = random.randrange(modulus)\n",
    "H2_hg_linear_random_v2_x1 = H1_hg_linear_x1(random_v2_x1)\n",
    "print(f\"Verifier returns random_v2_x1 = {random_v2_x1}, H1_hg_linear_x1(random_v2_x1) = {H2_hg_linear_random_v2_x1}\")"
   ]
  },
  {
   "cell_type": "code",
   "execution_count": 64,
   "id": "8f3ce1107293ac3c",
   "metadata": {
    "ExecuteTime": {
     "end_time": "2024-07-31T03:43:32.476226Z",
     "start_time": "2024-07-31T03:43:32.473250Z"
    }
   },
   "outputs": [
    {
     "name": "stdout",
     "output_type": "stream",
     "text": [
      "Verifier; H2_hg_linear_x2(0) = 1, H2_hg_linear_x2(1) = 0, Pass = True\n"
     ]
    }
   ],
   "source": [
    "## We can proceed to next variable x2, same as regular GKR\n",
    "def H2_hg_linear_x2(x2):\n",
    "    return V1_hg_linear([random_v2_x1, x2])\n",
    "\n",
    "H2_hg_linear_0 = H2_hg_linear_x2(0)\n",
    "H2_hg_linear_1 = H2_hg_linear_x2(1)\n",
    "print(f\"Verifier; H2_hg_linear_x2(0) = {H2_hg_linear_0}, H2_hg_linear_x2(1) = {H2_hg_linear_1}, Pass = {(H2_hg_linear_0 + H2_hg_linear_1)%modulus == H1_hg_linear_x1(random_v2_x1)}\")\n",
    "random_v2_x2 = random.randrange(modulus)\n",
    "H2_hg_linear_random_v2_x2 = H2_hg_linear_x2(random_v2_x2)"
   ]
  },
  {
   "cell_type": "markdown",
   "id": "fae5c6fe7b1dd1b7",
   "metadata": {},
   "source": [
    "From the procedure above, we can clearly feel that the computation needed is much less than regular GKR procedure.\n",
    "\n",
    "The trick is that we can combine the mult2\\_tilde\\_alpha([x1, x2, y1, y2]) * V2\\_MLE([y1, y2])\n",
    "So that we can build a function hg_alpha(x1, x2), by traverse all combination of y1, y2\n",
    "\n",
    "Hfull(x1, x2, y1, y2)\n",
    "\n",
    "= alpha  * mult2\\_tilde\\_alpha([x1, x2, y1, y2]) * V2\\_MLE([y1, y2]) + beta  * mult2\\_tilde\\_beta([x1, x2, y1, y2]) *  V2\\_MLE([y1, y2])\n",
    "\n",
    "the trivial way is the we calculate all (y1, y2) as\n",
    "Hfull(x1, x2, 0, 0), Hfull(x1, x2, 0, 1), Hfull(x1, x2, 1, 0), Hfull(x1, x2, 1, 1)\n",
    "We can notice the nature of computing MLE is that:\n",
    "\n",
    "*When you meet 1, you times the current position factor r; if you have 0, you times (1-r)*. \n",
    "\n",
    "The code section is exactly the way we used to compute MLE evaluation for previous example.\n",
    "\n",
    "We can call this \"traverse-all-combination\" function to be `eq`, optimize it to be linear time:"
   ]
  },
  {
   "cell_type": "code",
   "execution_count": 11,
   "id": "52d5352058ea140f",
   "metadata": {
    "ExecuteTime": {
     "end_time": "2024-07-31T03:43:32.478767Z",
     "start_time": "2024-07-31T03:43:32.477288Z"
    }
   },
   "outputs": [
    {
     "name": "stdout",
     "output_type": "stream",
     "text": [
      "\n",
      "result = 0\n",
      "for key, value in table.items():\n",
      "    prod = value\n",
      "    for i in range(n):\n",
      "        if key[i] == 1:\n",
      "            prod *= input_vars[i]\n",
      "        else:\n",
      "            prod *= (1 - input_vars[i])\n",
      "    result += prod\n",
      "\n"
     ]
    }
   ],
   "source": [
    "print(\"\"\"\n",
    "result = 0\n",
    "for key, value in table.items():\n",
    "    prod = value\n",
    "    for i in range(n):\n",
    "        if key[i] == 1:\n",
    "            prod *= input_vars[i]\n",
    "        else:\n",
    "            prod *= (1 - input_vars[i])\n",
    "    result += prod\n",
    "\"\"\")"
   ]
  },
  {
   "cell_type": "markdown",
   "id": "d8a76f395c031446",
   "metadata": {},
   "source": [
    "The original method we used above is straight-forward, where we `*= input_vars[i]` if `key[i]` is 1, and `*= (1 - input_vars[i])` if it is not. We can write the function below:"
   ]
  },
  {
   "cell_type": "code",
   "execution_count": 66,
   "id": "c006a4841120bb83",
   "metadata": {
    "ExecuteTime": {
     "end_time": "2024-07-31T03:43:32.503242Z",
     "start_time": "2024-07-31T03:43:32.479319Z"
    }
   },
   "outputs": [],
   "source": [
    "mod = 10 ** 9 + 7\n",
    "def eq(r, b):\n",
    "    res = 1\n",
    "    for i in range(len(r)):\n",
    "        if ((b >> i) & 1) == 0:\n",
    "            res *= (1 - r[i])\n",
    "        else:\n",
    "            res *= r[i]\n",
    "        res %= mod\n",
    "    return res\n",
    "\n",
    "r = [i + 1 for i in range(20)]\n",
    "eq_binary = [1 for i in range(2 ** len(r))]"
   ]
  },
  {
   "cell_type": "markdown",
   "id": "6243332934970f2e",
   "metadata": {},
   "source": [
    "In our case, the `b` stands for the (y1, y2) bit string, which has four combination (00,01,10,11). But this is too small to show the difference, so we changed it to 20 variables, to show the speedup.\n",
    "\n",
    "For every bit we meet, we can build a binary tree, where going to left child means `*= input_vars[i]` and going right means `*= (1 - input_vars[i])`, so we have"
   ]
  },
  {
   "cell_type": "code",
   "execution_count": 67,
   "id": "d57d03a5841e4cf5",
   "metadata": {
    "ExecuteTime": {
     "end_time": "2024-07-31T03:43:32.506472Z",
     "start_time": "2024-07-31T03:43:32.504390Z"
    }
   },
   "outputs": [],
   "source": [
    "def dfs(index, depth, answer):\n",
    "    if depth == len(r):\n",
    "        eq_binary[index] = answer\n",
    "    else:\n",
    "        dfs(index | (1 << depth), depth + 1, answer * r[depth] % mod)\n",
    "        dfs(index, depth + 1, answer * (1 - r[depth]) % mod)"
   ]
  },
  {
   "cell_type": "markdown",
   "id": "1fe32a3319e65f49",
   "metadata": {},
   "source": [
    "There is another optimization technique. Becuase the multiplication is combinational, we can split the bit string into two halfs and do a cross-product at the end"
   ]
  },
  {
   "cell_type": "code",
   "execution_count": 68,
   "id": "d542d8bc74d9cc60",
   "metadata": {
    "ExecuteTime": {
     "end_time": "2024-07-31T03:43:32.558218Z",
     "start_time": "2024-07-31T03:43:32.507134Z"
    }
   },
   "outputs": [],
   "source": [
    "import time\n",
    "# simple opt, splitting into two half and doing cross-product later\n",
    "t0 = time.time()\n",
    "lgn = len(r)\n",
    "eq_bf_0 = [eq(r[:lgn//2], b) for b in range(2 ** (lgn // 2))]         # sqrt(n) * log(n)\n",
    "eq_bf_1 = [eq(r[lgn//2:], b) for b in range(2 ** (lgn - (lgn // 2)))] # sqrt(n) * log(n)\n",
    "eq_opt  = [x * y % mod for y in eq_bf_1 for x in eq_bf_0] # n\n",
    "t1 = time.time()"
   ]
  },
  {
   "cell_type": "markdown",
   "id": "98c56958f258f358",
   "metadata": {},
   "source": [
    "We can now compare the difference in terms of speedup:"
   ]
  },
  {
   "cell_type": "code",
   "execution_count": 69,
   "id": "2323f1e1650a5a72",
   "metadata": {
    "ExecuteTime": {
     "end_time": "2024-07-31T03:43:35.274267Z",
     "start_time": "2024-07-31T03:43:32.559587Z"
    }
   },
   "outputs": [
    {
     "name": "stdout",
     "output_type": "stream",
     "text": [
      "Time of `spliting-cross-product` = 0.048887014389038086\n",
      "Time of `brute-force` = 2.347182035446167\n",
      "Time of `DFS` = 0.3650224208831787\n"
     ]
    }
   ],
   "source": [
    "print(f\"Time of `spliting-cross-product` = {t1 - t0}\")\n",
    "\n",
    "# brute force\n",
    "t2 = time.time()\n",
    "eq_bf = [eq(r, b) for b in range(2**len(r))]\n",
    "t3 = time.time()\n",
    "print(f\"Time of `brute-force` = {t3 - t2}\")\n",
    "\n",
    "# DFS\n",
    "t4 = time.time()\n",
    "dfs(0, 0, 1)\n",
    "t5 = time.time()\n",
    "print(f\"Time of `DFS` = {t5 - t4}\")"
   ]
  },
  {
   "cell_type": "markdown",
   "id": "ec6be5e2c0184b7f",
   "metadata": {},
   "source": [
    "We can clearly see that using `spliting-cross-product` is the fastest way to compute all combination of bits. In our case, we compute the temporary factor for y0 = 0 and 1. Same approach can be applied to y1 = 0 and 1. By doing cross-product, we can get all combinations needed to build $h_2(x_1, x_2)$ and the rest of computation is same as regular GKR, but number of variables is reduced by half.\n",
    "\n",
    "#### Phase 2\n",
    "\n",
    "Similar to Phase 1, we also need to calculate the lookup table for $(y_1, y_2)$ by replace $(x_1, x_2)$ with the random number that *Verifier* picked in Phase 1.\n",
    "\n",
    "$$\n",
    "h_2(y_1,y_2) = 3(1-y_1)y_2 + 2y_1y_2+3y_1(1-y_2)+2y_1y_2\n",
    "$$\n",
    "\n",
    "Then the proving target become \n",
    "\n",
    "$$\n",
    "\\sum_{y_1,y_2 \\in \\{0,1\\}} h_2(y_1,y_2) \\tilde{V}_{2}(y_1,y_2) = \\sum_{y_1,y_2 \\in \\{0,1\\}} (3(1-y_1)y_2 + 2y_1y_2+3y_1(1-y_2)+2y_1y_2) (2 - x_1 - x_2 + 4x_1x_2)\n",
    "$$\n",
    "\n",
    "which also follows the regular sumcheck protocol."
   ]
  },
  {
   "cell_type": "code",
   "execution_count": 70,
   "id": "1bba04e9a562fc0f",
   "metadata": {
    "ExecuteTime": {
     "end_time": "2024-07-31T03:43:35.278492Z",
     "start_time": "2024-07-31T03:43:35.274973Z"
    }
   },
   "outputs": [
    {
     "name": "stdout",
     "output_type": "stream",
     "text": [
      "Verifier; H3_hg4y_linear_y1(0) = 1, H3_hg4y_linear_y1(1) = 3, Pass = True\n"
     ]
    }
   ],
   "source": [
    "def hg4y(ys):\n",
    "    y1, y2 = ys\n",
    "    term = alpha * mult2_tilde_alpha([random_v2_x1, random_v2_x2, y1, y2]) * V2_MLE([y1, y2]) + beta * mult2_tilde_beta([random_v2_x1, random_v2_x2, y1, y2]) * V2_MLE([y1, y2])\n",
    "    return term % modulus\n",
    "\n",
    "def V1_hg4y_linear(ys):\n",
    "    y1, y2 = ys\n",
    "    return (V2_MLE([y1, y2]) * hg4y(ys)) % modulus\n",
    "\n",
    "def H3_hg4y_linear_y1(y1):\n",
    "    return V1_hg4y_linear([y1, 0]) + V1_hg4y_linear([y1, 1])\n",
    "\n",
    "H3_hg4y_linear_0 = H3_hg4y_linear_y1(0)\n",
    "H3_hg4y_linear_1 = H3_hg4y_linear_y1(1)\n",
    "print(f\"Verifier; H3_hg4y_linear_y1(0) = {H3_hg4y_linear_0}, H3_hg4y_linear_y1(1) = {H3_hg4y_linear_1}, Pass = {(H3_hg4y_linear_0 + H3_hg4y_linear_1)%modulus == H2_hg_linear_random_v2_x2}\")\n",
    "random_v2_y1 = random.randrange(modulus)\n",
    "H3_hg_linear_random_v2_y1 = H3_hg4y_linear_y1(random_v2_y1)"
   ]
  },
  {
   "cell_type": "markdown",
   "id": "f294d67820e04b6f",
   "metadata": {},
   "source": [
    "\n",
    "At the end of Linear GKR, *Verifier* will have two claims $V_3(r^{x_1}, r^{x_2})$ and $V_3(r^{y_1}, r^{y_2})$, where $r^{x_1}, r^{x_2}, r^{y_1}, r^{y_2}$ are the random challenges. *Verifier* will open these two claims via PCS (like KZG commitment) to produce the final accept or reject of this proof.\n",
    "\n",
    "## Conclusion\n",
    "\n",
    "This tutorial illustrates how to compute GKR proof by hand and using two lookup table to reduce the proof generation time complexicity to be linear."
   ]
  },
  {
   "cell_type": "code",
   "execution_count": 71,
   "id": "a701267c9fff53f3",
   "metadata": {
    "ExecuteTime": {
     "end_time": "2024-07-31T03:43:35.281695Z",
     "start_time": "2024-07-31T03:43:35.279208Z"
    }
   },
   "outputs": [
    {
     "name": "stdout",
     "output_type": "stream",
     "text": [
      "Verifier; H4_hg4y_linear_y2(0) = 0, H4_hg4y_linear_y2(1) = 1, Pass = True\n",
      "[3, 4, 0, 2] is the random points we chosen to proceed to next layer. If layer 2 is the input layer, we can proceed to do PCS\n"
     ]
    }
   ],
   "source": [
    "## We reach the end of our proving procedure, we need to calculate the final H4\n",
    "def H4_hg4y_linear_y2(y2):\n",
    "    return V1_hg4y_linear([random_v2_y1, y2])\n",
    "\n",
    "H4_hg4y_linear_0 = H4_hg4y_linear_y2(0)\n",
    "H4_hg4y_linear_1 = H4_hg4y_linear_y2(1)\n",
    "print(f\"Verifier; H4_hg4y_linear_y2(0) = {H4_hg4y_linear_0}, H4_hg4y_linear_y2(1) = {H4_hg4y_linear_1}, Pass = {(H4_hg4y_linear_0 + H4_hg4y_linear_1)%modulus == H3_hg_linear_random_v2_y1}\")\n",
    "random_v2_y2 = random.randrange(modulus)\n",
    "H4_hg_linear_random_v2_y2 = H4_hg4y_linear_y2(random_v2_y2)\n",
    "\n",
    "print(f\"[{random_v2_x1}, {random_v2_x2}, {random_v2_y1}, {random_v2_y2}] is the random points we chosen to proceed to next layer. If layer 2 is the input layer, we can proceed to do PCS\")"
   ]
  },
  {
   "cell_type": "code",
   "execution_count": 71,
   "id": "8dc4f1bfcb7dd7d5",
   "metadata": {
    "ExecuteTime": {
     "end_time": "2024-07-31T03:43:35.283503Z",
     "start_time": "2024-07-31T03:43:35.282322Z"
    }
   },
   "outputs": [],
   "source": []
  }
 ],
 "metadata": {
  "kernelspec": {
   "display_name": "Python 3 (ipykernel)",
   "language": "python",
   "name": "python3"
  },
  "language_info": {
   "codemirror_mode": {
    "name": "ipython",
    "version": 3
   },
   "file_extension": ".py",
   "mimetype": "text/x-python",
   "name": "python",
   "nbconvert_exporter": "python",
   "pygments_lexer": "ipython3",
   "version": "3.11.5"
  }
 },
 "nbformat": 4,
 "nbformat_minor": 5
}
